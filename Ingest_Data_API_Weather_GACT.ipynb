{
  "nbformat": 4,
  "nbformat_minor": 0,
  "metadata": {
    "colab": {
      "provenance": [],
      "include_colab_link": true
    },
    "kernelspec": {
      "name": "python3",
      "display_name": "Python 3"
    },
    "language_info": {
      "name": "python"
    }
  },
  "cells": [
    {
      "cell_type": "markdown",
      "metadata": {
        "id": "view-in-github",
        "colab_type": "text"
      },
      "source": [
        "<a href=\"https://colab.research.google.com/github/guillotatis/talentotech/blob/main/Ingest_Data_API_Weather_GACT.ipynb\" target=\"_parent\"><img src=\"https://colab.research.google.com/assets/colab-badge.svg\" alt=\"Open In Colab\"/></a>"
      ]
    },
    {
      "cell_type": "code",
      "execution_count": 24,
      "metadata": {
        "id": "4tEWSxqkSeDc"
      },
      "outputs": [],
      "source": [
        "#Se importan las librerias\n",
        "import requests\n",
        "import json\n",
        "import pandas as pd"
      ]
    },
    {
      "cell_type": "code",
      "source": [
        "API_KEY = 'a494b4be4e2d6ce372030d31818c7f1d'  # Reemplazar con tu API Key de OpenWeather\n",
        "ciudad = 'Bogotá'\n",
        "#id_city = '3688689'\n",
        "#url = f'https://api.openweathermap.org/data/2.5/weather?id={id_city}&appid={API_KEY}&units=metric'\n",
        "url = f'http://api.openweathermap.org/data/2.5/weather?q={ciudad}&appid={API_KEY}&units=metric'"
      ],
      "metadata": {
        "id": "pwBFtQVcSum7"
      },
      "execution_count": 27,
      "outputs": []
    },
    {
      "cell_type": "code",
      "source": [
        "respuesta = requests.get(url)\n",
        "\n",
        "if respuesta.status_code == 200:\n",
        "    datos = respuesta.json()\n",
        "    if 'main' in datos and 'weather' in datos:\n",
        "        temperatura_actual = datos['main']['temp']\n",
        "        descripcion_clima = datos['weather'][0]['description']\n",
        "        print(f'Temperatura actual en {ciudad}: {temperatura_actual}°C')\n",
        "        #print(f'Temperatura actual en {id_city}: {temperatura_actual}°C')\n",
        "        #print(f'Descripción del clima: {descripcion_clima}')\n",
        "    else:\n",
        "        print('Error: No se encontraron los datos esperados en la respuesta.')\n",
        "else:\n",
        "    print(f'Error: No se pudo obtener los datos del clima. Código de estado: {respuesta.status_code}')"
      ],
      "metadata": {
        "colab": {
          "base_uri": "https://localhost:8080/"
        },
        "id": "vsJS1izFS64k",
        "outputId": "b80bda11-57dd-4d04-e51d-c481c2fea53f"
      },
      "execution_count": 28,
      "outputs": [
        {
          "output_type": "stream",
          "name": "stdout",
          "text": [
            "Temperatura actual en Bogotá: 13.73°C\n"
          ]
        }
      ]
    },
    {
      "cell_type": "code",
      "source": [
        "# Reemplazar con tu API Key de OpenWeather\n",
        "API_KEY = 'a494b4be4e2d6ce372030d31818c7f1d'\n",
        "\n",
        "# Lista de ciudades colombianas\n",
        "ciudades = ['Bogota', 'Medellin', 'Cali', 'Barranquilla', 'Cartagena', 'Cúcuta', 'Bucaramanga', 'Pereira', 'Santa Marta', 'Ibagué']\n",
        "\n",
        "# Lista para almacenar los datos de temperatura\n",
        "datos_temperatura = []\n",
        "\n",
        "for ciudad in ciudades:\n",
        "    url = f'http://api.openweathermap.org/data/2.5/weather?q={ciudad},CO&appid={API_KEY}&units=metric'\n",
        "    respuesta = requests.get(url)\n",
        "\n",
        "    if respuesta.status_code == 200:\n",
        "        datos = respuesta.json()\n",
        "        if 'main' in datos:\n",
        "            temperatura_actual = datos['main']['temp']\n",
        "            datos_temperatura.append({'Ciudad': ciudad, 'Temperatura': temperatura_actual})\n",
        "        else:\n",
        "            print(f'Error: No se encontraron los datos de temperatura para {ciudad}.')\n",
        "    else:\n",
        "        print(f'Error: No se pudo obtener los datos del clima para {ciudad}. Código de estado: {respuesta.status_code}')\n",
        "\n",
        "# Crear un DataFrame de Pandas con los datos de temperatura\n",
        "df_temperatura = pd.DataFrame(datos_temperatura)\n",
        "\n",
        "print(df_temperatura)"
      ],
      "metadata": {
        "colab": {
          "base_uri": "https://localhost:8080/"
        },
        "id": "4vQhvvgCZTy3",
        "outputId": "63bc7f6e-2b65-4118-d713-a51a21149239"
      },
      "execution_count": 29,
      "outputs": [
        {
          "output_type": "stream",
          "name": "stdout",
          "text": [
            "         Ciudad  Temperatura\n",
            "0        Bogota        13.73\n",
            "1      Medellin        21.87\n",
            "2          Cali        26.00\n",
            "3  Barranquilla        25.88\n",
            "4     Cartagena        26.79\n",
            "5        Cúcuta        28.97\n",
            "6   Bucaramanga        22.73\n",
            "7       Pereira        18.85\n",
            "8   Santa Marta        27.72\n",
            "9        Ibagué        21.95\n"
          ]
        }
      ]
    }
  ]
}